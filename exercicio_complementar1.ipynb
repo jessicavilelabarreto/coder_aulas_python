{
 "cells": [
  {
   "cell_type": "code",
   "execution_count": 43,
   "metadata": {},
   "outputs": [
    {
     "name": "stdout",
     "output_type": "stream",
     "text": [
      "olá querido usuário tudo bem ? Vamos Calcular seu IMC.Seu peso é de 60 Kg e sua altura é 1.75\n",
      "Com base nessas informações seu IMC é de 19.591836734693878\n"
     ]
    }
   ],
   "source": [
    "'''\n",
    "-Desafio Complementar 01-\n",
    "\n",
    "Item 1\n",
    "\n",
    "Escreva um programa em Python que calcule o IMC (Índice de Massa Corporal) de uma pessoa. \n",
    "O programa deve solicitar ao usuário o peso em kg e a altura em metros, e em seguida, \n",
    "-calcular e imprimir o valor do IMC.\n",
    "\n",
    "'''\n",
    "\n",
    "#Variaveis\n",
    "peso = input(\"Digite seu peso:\")\n",
    "altura = input(\"Digite sua altura:\")\n",
    "\n",
    "print(f\"olá querido usuário tudo bem ? Vamos Calcular seu IMC.Seu peso é de {peso} Kg e sua altura é {altura}\")\n",
    "\n",
    "peso_convertido=int(peso)\n",
    "altura_convertida=float(altura)\n",
    "\n",
    "imc= peso_convertido/(altura_convertida*altura_convertida)\n",
    "print(f\"Com base nessas informações seu IMC é de {imc}\")\n",
    "\n",
    "\n",
    "\n",
    "\n",
    "\n"
   ]
  },
  {
   "cell_type": "code",
   "execution_count": 44,
   "metadata": {},
   "outputs": [
    {
     "name": "stdout",
     "output_type": "stream",
     "text": [
      "['1', '2', '3', '4', '5']\n"
     ]
    }
   ],
   "source": [
    "'''\n",
    "-Desafio Complementar 01-\n",
    "\n",
    "Item 2\n",
    "\n",
    "Faça um programa que crie uma lista vazia e permita que o usuário insira 5 números inteiros na lista.\n",
    "\n",
    "'''\n",
    "#Criando uma lista vazia \n",
    "\n",
    "lista_numeros_usuario=[]\n",
    "\n",
    "numero_1=input('Insira um primeiro numero inteiro:')\n",
    "\n",
    "lista_numeros_usuario.append(numero_1)\n",
    "\n",
    "numero_2=input('Insira o segundo numero inteiro:')\n",
    "lista_numeros_usuario.append(numero_2)\n",
    "\n",
    "numero_3=input('Insira o terceiro numero inteiro:')\n",
    "lista_numeros_usuario.append(numero_3)\n",
    "\n",
    "numero_4=input('Insira o quarto numero inteiro:')\n",
    "lista_numeros_usuario.append(numero_4)\n",
    "\n",
    "numero_5=input('Insira o quinto numero inteiro:')\n",
    "lista_numeros_usuario.append(numero_5)\n",
    "\n",
    "\n",
    "print(lista_numeros_usuario)"
   ]
  },
  {
   "cell_type": "code",
   "execution_count": 45,
   "metadata": {},
   "outputs": [
    {
     "name": "stdout",
     "output_type": "stream",
     "text": [
      "olá os nomes da lista são Alexandre,Jessica,Erica,Matheus\n",
      "['Alexandre', 'Jessica', 'Erica', 'Matheus']\n"
     ]
    }
   ],
   "source": [
    "\n",
    "\n",
    "'''\n",
    "-Desafio Complementar 01-\n",
    "\n",
    "Item 3\n",
    "\n",
    "Faça um programa que peça ao usuário para digitar uma lista de nomes separados por vírgula e transforme essa lista em uma lista de strings.\n",
    "\n",
    "'''\n",
    "\n",
    "\n",
    "\n",
    "#Criando uma lista de nomes\n",
    "\n",
    "lista_nomes=[]\n",
    "\n",
    "nome_1=input('Insira o primeiro nome da lista :')\n",
    "nome_2=input('Insira o segundo nome da lista :')\n",
    "nome_3=input('Insira o terceiro nome da lista :')\n",
    "nome_4=input('Insira o quarto nome da lista :')\n",
    "\n",
    "print(f\"olá os nomes da lista são {nome_1},{nome_2},{nome_3},{nome_4}\")\n",
    "\n",
    "lista_nomes.append(nome_1)\n",
    "lista_nomes.append(nome_2)\n",
    "lista_nomes.append(nome_3)\n",
    "lista_nomes.append(nome_4)\n",
    "\n",
    "print(lista_nomes)\n",
    "\n"
   ]
  }
 ],
 "metadata": {
  "kernelspec": {
   "display_name": "jessica_aula1",
   "language": "python",
   "name": "python3"
  },
  "language_info": {
   "codemirror_mode": {
    "name": "ipython",
    "version": 3
   },
   "file_extension": ".py",
   "mimetype": "text/x-python",
   "name": "python",
   "nbconvert_exporter": "python",
   "pygments_lexer": "ipython3",
   "version": "3.12.2"
  }
 },
 "nbformat": 4,
 "nbformat_minor": 2
}
